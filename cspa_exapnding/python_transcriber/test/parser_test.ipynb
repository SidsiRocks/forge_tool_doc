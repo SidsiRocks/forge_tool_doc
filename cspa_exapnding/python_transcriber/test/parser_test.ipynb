{
 "cells": [
  {
   "cell_type": "code",
   "execution_count": 4,
   "metadata": {},
   "outputs": [
    {
     "ename": "AssertionError",
     "evalue": "",
     "output_type": "error",
     "traceback": [
      "\u001b[0;31m---------------------------------------------------------------------------\u001b[0m",
      "\u001b[0;31mAssertionError\u001b[0m                            Traceback (most recent call last)",
      "Cell \u001b[0;32mIn[4], line 37\u001b[0m\n\u001b[1;32m     35\u001b[0m     \u001b[38;5;28mprint\u001b[39m(parse_key_term(ltk_test,ltk_vars))\n\u001b[1;32m     36\u001b[0m     result \u001b[38;5;241m=\u001b[39m test_buf\u001b[38;5;241m.\u001b[39mgetvalue()\n\u001b[0;32m---> 37\u001b[0m     \u001b[38;5;28;01massert\u001b[39;00m(result \u001b[38;5;241m==\u001b[39m expect_test)\n\u001b[1;32m     38\u001b[0m \u001b[38;5;28mprint\u001b[39m(result)    \n",
      "\u001b[0;31mAssertionError\u001b[0m: "
     ]
    }
   ],
   "source": [
    "import sys\n",
    "import io \n",
    "import sexpdata\n",
    "sys.path.append(\"..\")\n",
    "from parser import *\n",
    "from typing import List,Tuple \n",
    "from type_and_helpers import *\n",
    "from contextlib import redirect_stdout\n",
    "def create_var_dict(var_and_type:List[Tuple[str,VarType]]):\n",
    "    result:VarMap = {}\n",
    "    for variable,variable_type in var_and_type:\n",
    "        if variable in result:\n",
    "            raise Exception(f\"{variable} is repeated in {var_and_type}\")\n",
    "        result[variable] = variable_type\n",
    "    return result\n",
    "\n",
    "pubk_test  = sexpdata.loads(\"(pubk name1)\")\n",
    "pubk_vars  = create_var_dict([ (\"name1\",VarType.NAME) ])\n",
    "\n",
    "privk_test = sexpdata.loads(\"(privk name1)\")\n",
    "privk_vars = pubk_vars\n",
    "\n",
    "ltk_test   = sexpdata.loads(\"(ltk name1 name2)\")\n",
    "ltk_vars = create_var_dict([ (\"name1\",VarType.NAME) , (\"name2\",VarType.NAME)])\n",
    "\n",
    "result = \"\"\n",
    "expect_test=\"\"\"\n",
    "PubkTerm(agent_name='name1')\n",
    "PrivkTerm(agent_name='name1')\n",
    "LtkTerm(agent1_name='name1', agent2_name='name2')\n",
    "\"\"\"\n",
    "with io.StringIO() as test_buf,redirect_stdout(test_buf):\n",
    "    print(parse_key_term(pubk_test,pubk_vars))\n",
    "    print(parse_key_term(privk_test,privk_vars))\n",
    "    print(parse_key_term(ltk_test,ltk_vars))\n",
    "    result = test_buf.getvalue()\n",
    "    assert(result == expect_test)\n",
    "print(result)    "
   ]
  },
  {
   "cell_type": "code",
   "execution_count": null,
   "metadata": {},
   "outputs": [],
   "source": []
  }
 ],
 "metadata": {
  "kernelspec": {
   "display_name": "Python 3",
   "language": "python",
   "name": "python3"
  },
  "language_info": {
   "codemirror_mode": {
    "name": "ipython",
    "version": 3
   },
   "file_extension": ".py",
   "mimetype": "text/x-python",
   "name": "python",
   "nbconvert_exporter": "python",
   "pygments_lexer": "ipython3",
   "version": "3.13.2"
  }
 },
 "nbformat": 4,
 "nbformat_minor": 2
}
