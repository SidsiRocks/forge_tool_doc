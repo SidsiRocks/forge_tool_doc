{
 "cells": [
  {
   "cell_type": "code",
   "execution_count": null,
   "metadata": {},
   "outputs": [],
   "source": [
    "import reader\n",
    "with open(\"../../prot_impl/ootway_rees.rkt\") as f:\n",
    "    result = reader.load_cspa_as_s_expr(f)\n",
    "result"
   ]
  },
  {
   "cell_type": "code",
   "execution_count": null,
   "metadata": {},
   "outputs": [],
   "source": [
    "role_A = result[3]\n",
    "role_B = result[4]\n",
    "role_S = result[5]\n",
    "\n",
    "role_A_vars_list = role_A[2]\n",
    "role_B_vars_list = role_B[2]\n",
    "role_S_vars_list = role_S[2]\n",
    "\n",
    "role_A_trace_list = role_A[3]\n",
    "role_B_trace_list = role_B[3]\n",
    "role_S_trace_list = role_S[3]\n",
    "\n",
    "var_dict_A = reader.parse_vars_clause(role_A_vars_list)\n",
    "var_dict_B = reader.parse_vars_clause(role_B_vars_list)\n",
    "var_dict_S = reader.parse_vars_clause(role_S_vars_list)\n",
    "\n",
    "print(f\"var_dict_A looks like:\\n{var_dict_A}\\n\")\n",
    "print(f\"var_dict_B looks like:\\n{var_dict_B}\\n\")\n",
    "print(f\"var_dict_C looks like:\\n{var_dict_S}\\n\")\n",
    "\n",
    "role_A_trace_list_1,role_A_trace_list_2 = role_A_trace_list[1],role_A_trace_list[2]\n",
    "msg_A_trace_1 = reader.parse_indv_trace(role_A_trace_list_1,var_dict_A)\n",
    "msg_A_trace_2 = reader.parse_indv_trace(role_A_trace_list_2,var_dict_A)\n",
    "\n",
    "role_A_trace_list = reader.parse_trace(role_A_trace_list,var_dict_A)\n",
    "role_A_obj = reader.parse_role(role_A)\n",
    "role_B_obj = reader.parse_role(role_B)\n",
    "role_S_obj = reader.parse_role(role_S)\n",
    "\n",
    "print(f\"type(result[2]) = {type(result[2])}\")\n",
    "parse_prot = reader.parse_protocol(result)\n",
    "parse_prot"
   ]
  },
  {
   "cell_type": "code",
   "execution_count": null,
   "metadata": {},
   "outputs": [],
   "source": [
    "with open(\"../../prot_impl/two_nonce.rkt\") as f:\n",
    "    result_2_nonce = reader.load_cspa_as_s_expr(f)\n",
    "result_2_nonce"
   ]
  },
  {
   "cell_type": "code",
   "execution_count": null,
   "metadata": {},
   "outputs": [],
   "source": [
    "prot_2_nonce = reader.parse_protocol(result_2_nonce)\n",
    "print(f\"prot_2_nonce.basic_str = {prot_2_nonce.basic_str}\")\n",
    "print(f\"prot_2_nonce.prot_name = {prot_2_nonce.prot_name}\")\n",
    "role_init,role_resp = prot_2_nonce.roles_arr\n",
    "init_var_dict,resp_var_dict = role_init.var_dict,role_resp.var_dict\n",
    "print(f\"init_var_dict\\n{init_var_dict}\")\n",
    "print(f\"resp_var_dict\\n{resp_var_dict}\")\n",
    "init_msg_trace = role_init.msg_trace\n",
    "resp_msg_trace = role_resp.msg_trace\n",
    "print(f\"init_msg_trace:{(init_msg_trace)}\")\n",
    "for send_recv,msg in init_msg_trace:\n",
    "    print(f\"{send_recv}: {msg}\")\n",
    "print(f\"resp_msg_trace:{(resp_msg_trace)}\")\n",
    "for send_recv,msg in resp_msg_trace:\n",
    "    print(f\"{send_recv}: {msg}\")"
   ]
  },
  {
   "cell_type": "code",
   "execution_count": 1,
   "metadata": {},
   "outputs": [
    {
     "name": "stdout",
     "output_type": "stream",
     "text": [
      "[Symbol('defskeleton'), Symbol('two_nonce'), [Symbol('vars'), [Symbol('a'), Symbol('b'), Symbol('name')], [Symbol('n1'), Symbol('n2'), Symbol('text')]], [Symbol('defstrand'), Symbol('init'), 3, [Symbol('a'), Symbol('a')], [Symbol('b'), Symbol('b')], [Symbol('n1'), Symbol('n1')], [Symbol('n2'), Symbol('n2')]], [Symbol('non-orig'), [Symbol('privk'), Symbol('a')], [Symbol('privk'), Symbol('b')]], [Symbol('uniq-orig'), Symbol('n1'), Symbol('n2')]]\n"
     ]
    },
    {
     "data": {
      "text/plain": [
       "[Protocol(\n",
       " [Role(init,{'a': Variable(a,VarType.NAME), 'b': Variable(b,VarType.NAME), 'n1': Variable(n1,VarType.TEXT), 'n2': Variable(n2,VarType.TEXT)},[(<SendRecv.SEND_TRACE: 1>, Message(MsgType.ENCRYPTED_TERM,[Message(MsgType.ATOM_TERM,Variable(n1,VarType.TEXT)), Message(MsgType.PUBK_TERM,[Message(MsgType.ATOM_TERM,Variable(b,VarType.NAME))])])), (<SendRecv.RECV_TRACE: 2>, Message(MsgType.ENCRYPTED_TERM,[Message(MsgType.ATOM_TERM,Variable(n1,VarType.TEXT)), Message(MsgType.ATOM_TERM,Variable(n2,VarType.TEXT)), Message(MsgType.PUBK_TERM,[Message(MsgType.ATOM_TERM,Variable(a,VarType.NAME))])])), (<SendRecv.SEND_TRACE: 1>, Message(MsgType.ENCRYPTED_TERM,[Message(MsgType.ATOM_TERM,Variable(n2,VarType.TEXT)), Message(MsgType.PUBK_TERM,[Message(MsgType.ATOM_TERM,Variable(b,VarType.NAME))])]))]), Role(resp,{'a': Variable(a,VarType.NAME), 'b': Variable(b,VarType.NAME), 'n1': Variable(n1,VarType.TEXT), 'n2': Variable(n2,VarType.TEXT)},[(<SendRecv.RECV_TRACE: 2>, Message(MsgType.ENCRYPTED_TERM,[Message(MsgType.ATOM_TERM,Variable(n1,VarType.TEXT)), Message(MsgType.PUBK_TERM,[Message(MsgType.ATOM_TERM,Variable(b,VarType.NAME))])])), (<SendRecv.SEND_TRACE: 1>, Message(MsgType.ENCRYPTED_TERM,[Message(MsgType.ATOM_TERM,Variable(n1,VarType.TEXT)), Message(MsgType.ATOM_TERM,Variable(n2,VarType.TEXT)), Message(MsgType.PUBK_TERM,[Message(MsgType.ATOM_TERM,Variable(a,VarType.NAME))])])), (<SendRecv.RECV_TRACE: 2>, Message(MsgType.ENCRYPTED_TERM,[Message(MsgType.ATOM_TERM,Variable(n2,VarType.TEXT)), Message(MsgType.PUBK_TERM,[Message(MsgType.ATOM_TERM,Variable(b,VarType.NAME))])]))])],\n",
       " two_nonce,\n",
       " basic),\n",
       " Skeleton(two_nonce,\n",
       " {'a': Variable(a,VarType.NAME), 'b': Variable(b,VarType.NAME), 'n1': Variable(n1,VarType.TEXT), 'n2': Variable(n2,VarType.TEXT)},\n",
       " [Strand(init,3,\n",
       " {'a': 'a', 'b': 'b', 'n1': 'n1', 'n2': 'n2'})],\n",
       " [Constraint(ConstrType.NON_ORIG,Message(MsgType.PRIVK_TERM,[Message(MsgType.ATOM_TERM,Variable(a,VarType.NAME))])), Constraint(ConstrType.NON_ORIG,Message(MsgType.PRIVK_TERM,[Message(MsgType.ATOM_TERM,Variable(b,VarType.NAME))])), Constraint(ConstrType.UNIQ_ORIG,Message(MsgType.ATOM_TERM,Variable(n1,VarType.TEXT))), Constraint(ConstrType.UNIQ_ORIG,Message(MsgType.ATOM_TERM,Variable(n2,VarType.TEXT)))])]"
      ]
     },
     "execution_count": 1,
     "metadata": {},
     "output_type": "execute_result"
    }
   ],
   "source": [
    "import reader\n",
    "file_name = \"../two_nonce/two_nonce_temp.rkt\"\n",
    "s_expr = reader.load_cspa_as_s_expr_new(file_name)\n",
    "print(s_expr[1])\n",
    "reader.parse_file(s_expr)"
   ]
  }
 ],
 "metadata": {
  "kernelspec": {
   "display_name": "usr",
   "language": "python",
   "name": "python3"
  },
  "language_info": {
   "codemirror_mode": {
    "name": "ipython",
    "version": 3
   },
   "file_extension": ".py",
   "mimetype": "text/x-python",
   "name": "python",
   "nbconvert_exporter": "python",
   "pygments_lexer": "ipython3",
   "version": "3.13.2"
  }
 },
 "nbformat": 4,
 "nbformat_minor": 2
}
