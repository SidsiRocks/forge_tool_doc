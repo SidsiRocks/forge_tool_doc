{
 "cells": [
  {
   "cell_type": "code",
   "execution_count": 21,
   "metadata": {},
   "outputs": [
    {
     "name": "stdout",
     "output_type": "stream",
     "text": [
      "first line: #lang forge/domains/crypto\n",
      "\n",
      "file text is:\n",
      "(defprotocol addit_enc basic\n",
      "    (defrole B\n",
      "        (vars (a b name) (n1 n2 text))\n",
      "        (trace\n",
      "            (recv (cat a (enc n1 (pubk b))))\n",
      "            (send (cat b (enc n2 (pubk a))))\n",
      "        )\n",
      "    )\n",
      "  (defrole A \n",
      "        (vars (a b name) (n1 n2 text))\n",
      "        (trace\n",
      "            (send (cat a (enc n1 (pubk b))))\n",
      "            (recv (cat b (enc n2 (pubk a))))\n",
      "        )\n",
      "    )\n",
      ")\n",
      "result is:\n",
      "[Symbol('defprotocol'), Symbol('addit_enc'), Symbol('basic'), [Symbol('defrole'), Symbol('B'), [Symbol('vars'), [Symbol('a'), Symbol('b'), Symbol('name')], [Symbol('n1'), Symbol('n2'), Symbol('text')]], [Symbol('trace'), [Symbol('recv'), [Symbol('cat'), Symbol('a'), [Symbol('enc'), Symbol('n1'), [Symbol('pubk'), Symbol('b')]]]], [Symbol('send'), [Symbol('cat'), Symbol('b'), [Symbol('enc'), Symbol('n2'), [Symbol('pubk'), Symbol('a')]]]]]], [Symbol('defrole'), Symbol('A'), [Symbol('vars'), [Symbol('a'), Symbol('b'), Symbol('name')], [Symbol('n1'), Symbol('n2'), Symbol('text')]], [Symbol('trace'), [Symbol('send'), [Symbol('cat'), Symbol('a'), [Symbol('enc'), Symbol('n1'), [Symbol('pubk'), Symbol('b')]]]], [Symbol('recv'), [Symbol('cat'), Symbol('b'), [Symbol('enc'), Symbol('n2'), [Symbol('pubk'), Symbol('a')]]]]]]]\n"
     ]
    }
   ],
   "source": [
    "from sexpdata import loads,dumps\n",
    "file = open(\"../additional_enc_test/addit_enc.rkt\")\n",
    "for line in file:\n",
    "    print(f\"first line: {line}\")\n",
    "    break\n",
    "file_txt = file.read()\n",
    "print(\"file text is:\")\n",
    "print(file_txt)\n",
    "result = loads(file_txt)\n",
    "print(\"result is:\")\n",
    "print(result)"
   ]
  },
  {
   "cell_type": "code",
   "execution_count": 17,
   "metadata": {},
   "outputs": [
    {
     "data": {
      "text/plain": [
       "True"
      ]
     },
     "execution_count": 17,
     "metadata": {},
     "output_type": "execute_result"
    }
   ],
   "source": [
    "str(result[0]) == \"defprotocol\""
   ]
  },
  {
   "cell_type": "code",
   "execution_count": null,
   "metadata": {},
   "outputs": [],
   "source": []
  }
 ],
 "metadata": {
  "kernelspec": {
   "display_name": "Python 3",
   "language": "python",
   "name": "python3"
  },
  "language_info": {
   "codemirror_mode": {
    "name": "ipython",
    "version": 3
   },
   "file_extension": ".py",
   "mimetype": "text/x-python",
   "name": "python",
   "nbconvert_exporter": "python",
   "pygments_lexer": "ipython3",
   "version": "3.13.1"
  }
 },
 "nbformat": 4,
 "nbformat_minor": 2
}
