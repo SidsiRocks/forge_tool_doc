{
 "cells": [
  {
   "cell_type": "code",
   "execution_count": 1,
   "metadata": {},
   "outputs": [
    {
     "name": "stdout",
     "output_type": "stream",
     "text": [
      "[Symbol('defprotocol'), Symbol('addit_enc'), Symbol('basic'), [Symbol('defrole'), Symbol('B'), [Symbol('vars'), [Symbol('a'), Symbol('b'), Symbol('name')], [Symbol('n1'), Symbol('n2'), Symbol('text')]], [Symbol('trace'), [Symbol('recv'), [Symbol('cat'), Symbol('a'), [Symbol('enc'), Symbol('n1'), [Symbol('pubk'), Symbol('b')]]]], [Symbol('send'), [Symbol('cat'), Symbol('b'), [Symbol('enc'), Symbol('n2'), [Symbol('pubk'), Symbol('a')]]]]]], [Symbol('defrole'), Symbol('A'), [Symbol('vars'), [Symbol('a'), Symbol('b'), Symbol('name')], [Symbol('n1'), Symbol('n2'), Symbol('text')]], [Symbol('trace'), [Symbol('send'), [Symbol('cat'), Symbol('a'), [Symbol('enc'), Symbol('n1'), [Symbol('pubk'), Symbol('b')]]]], [Symbol('recv'), [Symbol('cat'), Symbol('b'), [Symbol('enc'), Symbol('n2'), [Symbol('pubk'), Symbol('a')]]]]]]]\n"
     ]
    },
    {
     "data": {
      "text/plain": [
       "[Symbol('defprotocol'),\n",
       " Symbol('ootway_rees'),\n",
       " Symbol('basic'),\n",
       " [Symbol('defrole'),\n",
       "  Symbol('A'),\n",
       "  [Symbol('vars'),\n",
       "   [Symbol('a'), Symbol('b'), Symbol('s'), Symbol('name')],\n",
       "   [Symbol('m'), Symbol('na'), Symbol('nb'), Symbol('text')],\n",
       "   [Symbol('kab'), Symbol('skey')]],\n",
       "  [Symbol('trace'),\n",
       "   [Symbol('send'),\n",
       "    [Symbol('cat'),\n",
       "     Symbol('m'),\n",
       "     Symbol('a'),\n",
       "     Symbol('b'),\n",
       "     [Symbol('enc'),\n",
       "      Symbol('na'),\n",
       "      Symbol('m'),\n",
       "      Symbol('a'),\n",
       "      Symbol('b'),\n",
       "      [Symbol('ltk'), Symbol('a'), Symbol('s')]]]],\n",
       "   [Symbol('recv'),\n",
       "    [Symbol('cat'),\n",
       "     Symbol('m'),\n",
       "     [Symbol('enc'),\n",
       "      Symbol('na'),\n",
       "      Symbol('kab'),\n",
       "      [Symbol('ltk'), Symbol('a'), Symbol('s')]]]]]],\n",
       " [Symbol('defrole'),\n",
       "  Symbol('B'),\n",
       "  [Symbol('vars'),\n",
       "   [Symbol('a'), Symbol('b'), Symbol('s'), Symbol('name')],\n",
       "   [Symbol('m'), Symbol('na'), Symbol('nb'), Symbol('text')],\n",
       "   [Symbol('kab'), Symbol('skey')]],\n",
       "  [Symbol('trace'),\n",
       "   [Symbol('recv'),\n",
       "    [Symbol('cat'),\n",
       "     Symbol('m'),\n",
       "     Symbol('a'),\n",
       "     Symbol('b'),\n",
       "     [Symbol('enc'),\n",
       "      Symbol('na'),\n",
       "      Symbol('m'),\n",
       "      Symbol('a'),\n",
       "      Symbol('b'),\n",
       "      [Symbol('ltk'), Symbol('a'), Symbol('s')]]]],\n",
       "   [Symbol('send'),\n",
       "    [Symbol('cat'),\n",
       "     Symbol('m'),\n",
       "     Symbol('a'),\n",
       "     Symbol('b'),\n",
       "     [Symbol('enc'),\n",
       "      Symbol('na'),\n",
       "      Symbol('m'),\n",
       "      Symbol('a'),\n",
       "      Symbol('b'),\n",
       "      [Symbol('ltk'), Symbol('a'), Symbol('s')]],\n",
       "     [Symbol('enc'),\n",
       "      Symbol('nb'),\n",
       "      Symbol('m'),\n",
       "      Symbol('a'),\n",
       "      Symbol('b'),\n",
       "      [Symbol('ltk'), Symbol('b'), Symbol('s')]]]],\n",
       "   [Symbol('recv'),\n",
       "    [Symbol('cat'),\n",
       "     Symbol('m'),\n",
       "     [Symbol('enc'),\n",
       "      Symbol('na'),\n",
       "      Symbol('kab'),\n",
       "      [Symbol('ltk'), Symbol('a'), Symbol('s')]],\n",
       "     [Symbol('enc'),\n",
       "      Symbol('nb'),\n",
       "      Symbol('kab'),\n",
       "      [Symbol('ltk'), Symbol('b'), Symbol('s')]]]],\n",
       "   [Symbol('send'),\n",
       "    [Symbol('cat'),\n",
       "     Symbol('m'),\n",
       "     [Symbol('enc'),\n",
       "      Symbol('na'),\n",
       "      Symbol('kab'),\n",
       "      [Symbol('ltk'), Symbol('a'), Symbol('s')]]]]]],\n",
       " [Symbol('defrole'),\n",
       "  Symbol('S'),\n",
       "  [Symbol('vars'),\n",
       "   [Symbol('a'), Symbol('b'), Symbol('s'), Symbol('name')],\n",
       "   [Symbol('m'), Symbol('na'), Symbol('nb'), Symbol('text')],\n",
       "   [Symbol('kab'), Symbol('skey')]],\n",
       "  [Symbol('trace'),\n",
       "   [Symbol('recv'),\n",
       "    [Symbol('cat'),\n",
       "     Symbol('m'),\n",
       "     Symbol('a'),\n",
       "     Symbol('b'),\n",
       "     [Symbol('enc'),\n",
       "      Symbol('na'),\n",
       "      Symbol('m'),\n",
       "      Symbol('a'),\n",
       "      Symbol('b'),\n",
       "      [Symbol('ltk'), Symbol('a'), Symbol('s')]],\n",
       "     [Symbol('enc'),\n",
       "      Symbol('nb'),\n",
       "      Symbol('m'),\n",
       "      Symbol('a'),\n",
       "      Symbol('b'),\n",
       "      [Symbol('ltk'), Symbol('b'), Symbol('s')]]]],\n",
       "   [Symbol('send'),\n",
       "    [Symbol('cat'),\n",
       "     Symbol('m'),\n",
       "     [Symbol('enc'),\n",
       "      Symbol('na'),\n",
       "      Symbol('kab'),\n",
       "      [Symbol('ltk'), Symbol('a'), Symbol('s')]],\n",
       "     [Symbol('enc'),\n",
       "      Symbol('nb'),\n",
       "      Symbol('kab'),\n",
       "      [Symbol('ltk'), Symbol('b'), Symbol('s')]]]]]]]"
      ]
     },
     "execution_count": 1,
     "metadata": {},
     "output_type": "execute_result"
    }
   ],
   "source": [
    "import reader\n",
    "with open(\"../../prot_impl/ootway_rees.rkt\") as f:\n",
    "    result = reader.load_cspa_as_s_expr(f)\n",
    "result"
   ]
  },
  {
   "cell_type": "code",
   "execution_count": 2,
   "metadata": {},
   "outputs": [
    {
     "name": "stdout",
     "output_type": "stream",
     "text": [
      "var_dict_A looks like:\n",
      "{'a': Variable(a,VarType.NAME), 'b': Variable(b,VarType.NAME), 's': Variable(s,VarType.NAME), 'm': Variable(m,VarType.TEXT), 'na': Variable(na,VarType.TEXT), 'nb': Variable(nb,VarType.TEXT), 'kab': Variable(kab,VarType.SKEY)}\n",
      "\n",
      "var_dict_B looks like:\n",
      "{'a': Variable(a,VarType.NAME), 'b': Variable(b,VarType.NAME), 's': Variable(s,VarType.NAME), 'm': Variable(m,VarType.TEXT), 'na': Variable(na,VarType.TEXT), 'nb': Variable(nb,VarType.TEXT), 'kab': Variable(kab,VarType.SKEY)}\n",
      "\n",
      "var_dict_C looks like:\n",
      "{'a': Variable(a,VarType.NAME), 'b': Variable(b,VarType.NAME), 's': Variable(s,VarType.NAME), 'm': Variable(m,VarType.TEXT), 'na': Variable(na,VarType.TEXT), 'nb': Variable(nb,VarType.TEXT), 'kab': Variable(kab,VarType.SKEY)}\n",
      "\n",
      "type(result[2]) = <class 'sexpdata.Symbol'>\n"
     ]
    },
    {
     "data": {
      "text/plain": [
       "Protocol(\n",
       "[Role(A,{'a': Variable(a,VarType.NAME), 'b': Variable(b,VarType.NAME), 's': Variable(s,VarType.NAME), 'm': Variable(m,VarType.TEXT), 'na': Variable(na,VarType.TEXT), 'nb': Variable(nb,VarType.TEXT), 'kab': Variable(kab,VarType.SKEY)},[(<SendRecv.SEND_TRACE: 1>, Message(MsgType.CAT_TERM,[Message(MsgType.ATOM_TERM,Variable(m,VarType.TEXT)), Message(MsgType.ATOM_TERM,Variable(a,VarType.NAME)), Message(MsgType.ATOM_TERM,Variable(b,VarType.NAME)), Message(MsgType.ENCRYPTED_TERM,[Message(MsgType.ATOM_TERM,Variable(na,VarType.TEXT)), Message(MsgType.ATOM_TERM,Variable(m,VarType.TEXT)), Message(MsgType.ATOM_TERM,Variable(a,VarType.NAME)), Message(MsgType.ATOM_TERM,Variable(b,VarType.NAME)), Message(MsgType.LTK_TERM,[Message(MsgType.ATOM_TERM,Variable(a,VarType.NAME)), Message(MsgType.ATOM_TERM,Variable(s,VarType.NAME))])])])), (<SendRecv.RECV_TRACE: 2>, Message(MsgType.CAT_TERM,[Message(MsgType.ATOM_TERM,Variable(m,VarType.TEXT)), Message(MsgType.ENCRYPTED_TERM,[Message(MsgType.ATOM_TERM,Variable(na,VarType.TEXT)), Message(MsgType.ATOM_TERM,Variable(kab,VarType.SKEY)), Message(MsgType.LTK_TERM,[Message(MsgType.ATOM_TERM,Variable(a,VarType.NAME)), Message(MsgType.ATOM_TERM,Variable(s,VarType.NAME))])])]))]), Role(B,{'a': Variable(a,VarType.NAME), 'b': Variable(b,VarType.NAME), 's': Variable(s,VarType.NAME), 'm': Variable(m,VarType.TEXT), 'na': Variable(na,VarType.TEXT), 'nb': Variable(nb,VarType.TEXT), 'kab': Variable(kab,VarType.SKEY)},[(<SendRecv.RECV_TRACE: 2>, Message(MsgType.CAT_TERM,[Message(MsgType.ATOM_TERM,Variable(m,VarType.TEXT)), Message(MsgType.ATOM_TERM,Variable(a,VarType.NAME)), Message(MsgType.ATOM_TERM,Variable(b,VarType.NAME)), Message(MsgType.ENCRYPTED_TERM,[Message(MsgType.ATOM_TERM,Variable(na,VarType.TEXT)), Message(MsgType.ATOM_TERM,Variable(m,VarType.TEXT)), Message(MsgType.ATOM_TERM,Variable(a,VarType.NAME)), Message(MsgType.ATOM_TERM,Variable(b,VarType.NAME)), Message(MsgType.LTK_TERM,[Message(MsgType.ATOM_TERM,Variable(a,VarType.NAME)), Message(MsgType.ATOM_TERM,Variable(s,VarType.NAME))])])])), (<SendRecv.SEND_TRACE: 1>, Message(MsgType.CAT_TERM,[Message(MsgType.ATOM_TERM,Variable(m,VarType.TEXT)), Message(MsgType.ATOM_TERM,Variable(a,VarType.NAME)), Message(MsgType.ATOM_TERM,Variable(b,VarType.NAME)), Message(MsgType.ENCRYPTED_TERM,[Message(MsgType.ATOM_TERM,Variable(na,VarType.TEXT)), Message(MsgType.ATOM_TERM,Variable(m,VarType.TEXT)), Message(MsgType.ATOM_TERM,Variable(a,VarType.NAME)), Message(MsgType.ATOM_TERM,Variable(b,VarType.NAME)), Message(MsgType.LTK_TERM,[Message(MsgType.ATOM_TERM,Variable(a,VarType.NAME)), Message(MsgType.ATOM_TERM,Variable(s,VarType.NAME))])]), Message(MsgType.ENCRYPTED_TERM,[Message(MsgType.ATOM_TERM,Variable(nb,VarType.TEXT)), Message(MsgType.ATOM_TERM,Variable(m,VarType.TEXT)), Message(MsgType.ATOM_TERM,Variable(a,VarType.NAME)), Message(MsgType.ATOM_TERM,Variable(b,VarType.NAME)), Message(MsgType.LTK_TERM,[Message(MsgType.ATOM_TERM,Variable(b,VarType.NAME)), Message(MsgType.ATOM_TERM,Variable(s,VarType.NAME))])])])), (<SendRecv.RECV_TRACE: 2>, Message(MsgType.CAT_TERM,[Message(MsgType.ATOM_TERM,Variable(m,VarType.TEXT)), Message(MsgType.ENCRYPTED_TERM,[Message(MsgType.ATOM_TERM,Variable(na,VarType.TEXT)), Message(MsgType.ATOM_TERM,Variable(kab,VarType.SKEY)), Message(MsgType.LTK_TERM,[Message(MsgType.ATOM_TERM,Variable(a,VarType.NAME)), Message(MsgType.ATOM_TERM,Variable(s,VarType.NAME))])]), Message(MsgType.ENCRYPTED_TERM,[Message(MsgType.ATOM_TERM,Variable(nb,VarType.TEXT)), Message(MsgType.ATOM_TERM,Variable(kab,VarType.SKEY)), Message(MsgType.LTK_TERM,[Message(MsgType.ATOM_TERM,Variable(b,VarType.NAME)), Message(MsgType.ATOM_TERM,Variable(s,VarType.NAME))])])])), (<SendRecv.SEND_TRACE: 1>, Message(MsgType.CAT_TERM,[Message(MsgType.ATOM_TERM,Variable(m,VarType.TEXT)), Message(MsgType.ENCRYPTED_TERM,[Message(MsgType.ATOM_TERM,Variable(na,VarType.TEXT)), Message(MsgType.ATOM_TERM,Variable(kab,VarType.SKEY)), Message(MsgType.LTK_TERM,[Message(MsgType.ATOM_TERM,Variable(a,VarType.NAME)), Message(MsgType.ATOM_TERM,Variable(s,VarType.NAME))])])]))]), Role(S,{'a': Variable(a,VarType.NAME), 'b': Variable(b,VarType.NAME), 's': Variable(s,VarType.NAME), 'm': Variable(m,VarType.TEXT), 'na': Variable(na,VarType.TEXT), 'nb': Variable(nb,VarType.TEXT), 'kab': Variable(kab,VarType.SKEY)},[(<SendRecv.RECV_TRACE: 2>, Message(MsgType.CAT_TERM,[Message(MsgType.ATOM_TERM,Variable(m,VarType.TEXT)), Message(MsgType.ATOM_TERM,Variable(a,VarType.NAME)), Message(MsgType.ATOM_TERM,Variable(b,VarType.NAME)), Message(MsgType.ENCRYPTED_TERM,[Message(MsgType.ATOM_TERM,Variable(na,VarType.TEXT)), Message(MsgType.ATOM_TERM,Variable(m,VarType.TEXT)), Message(MsgType.ATOM_TERM,Variable(a,VarType.NAME)), Message(MsgType.ATOM_TERM,Variable(b,VarType.NAME)), Message(MsgType.LTK_TERM,[Message(MsgType.ATOM_TERM,Variable(a,VarType.NAME)), Message(MsgType.ATOM_TERM,Variable(s,VarType.NAME))])]), Message(MsgType.ENCRYPTED_TERM,[Message(MsgType.ATOM_TERM,Variable(nb,VarType.TEXT)), Message(MsgType.ATOM_TERM,Variable(m,VarType.TEXT)), Message(MsgType.ATOM_TERM,Variable(a,VarType.NAME)), Message(MsgType.ATOM_TERM,Variable(b,VarType.NAME)), Message(MsgType.LTK_TERM,[Message(MsgType.ATOM_TERM,Variable(b,VarType.NAME)), Message(MsgType.ATOM_TERM,Variable(s,VarType.NAME))])])])), (<SendRecv.SEND_TRACE: 1>, Message(MsgType.CAT_TERM,[Message(MsgType.ATOM_TERM,Variable(m,VarType.TEXT)), Message(MsgType.ENCRYPTED_TERM,[Message(MsgType.ATOM_TERM,Variable(na,VarType.TEXT)), Message(MsgType.ATOM_TERM,Variable(kab,VarType.SKEY)), Message(MsgType.LTK_TERM,[Message(MsgType.ATOM_TERM,Variable(a,VarType.NAME)), Message(MsgType.ATOM_TERM,Variable(s,VarType.NAME))])]), Message(MsgType.ENCRYPTED_TERM,[Message(MsgType.ATOM_TERM,Variable(nb,VarType.TEXT)), Message(MsgType.ATOM_TERM,Variable(kab,VarType.SKEY)), Message(MsgType.LTK_TERM,[Message(MsgType.ATOM_TERM,Variable(b,VarType.NAME)), Message(MsgType.ATOM_TERM,Variable(s,VarType.NAME))])])]))])],\n",
       "ootway_rees,\n",
       "basic)"
      ]
     },
     "execution_count": 2,
     "metadata": {},
     "output_type": "execute_result"
    }
   ],
   "source": [
    "role_A = result[3]\n",
    "role_B = result[4]\n",
    "role_S = result[5]\n",
    "\n",
    "role_A_vars_list = role_A[2]\n",
    "role_B_vars_list = role_B[2]\n",
    "role_S_vars_list = role_S[2]\n",
    "\n",
    "role_A_trace_list = role_A[3]\n",
    "role_B_trace_list = role_B[3]\n",
    "role_S_trace_list = role_S[3]\n",
    "\n",
    "var_dict_A = reader.parse_vars_clause(role_A_vars_list)\n",
    "var_dict_B = reader.parse_vars_clause(role_B_vars_list)\n",
    "var_dict_S = reader.parse_vars_clause(role_S_vars_list)\n",
    "\n",
    "print(f\"var_dict_A looks like:\\n{var_dict_A}\\n\")\n",
    "print(f\"var_dict_B looks like:\\n{var_dict_B}\\n\")\n",
    "print(f\"var_dict_C looks like:\\n{var_dict_S}\\n\")\n",
    "\n",
    "role_A_trace_list_1,role_A_trace_list_2 = role_A_trace_list[1],role_A_trace_list[2]\n",
    "msg_A_trace_1 = reader.parse_indv_trace(role_A_trace_list_1,var_dict_A)\n",
    "msg_A_trace_2 = reader.parse_indv_trace(role_A_trace_list_2,var_dict_A)\n",
    "\n",
    "role_A_trace_list = reader.parse_trace(role_A_trace_list,var_dict_A)\n",
    "role_A_obj = reader.parse_role(role_A)\n",
    "role_B_obj = reader.parse_role(role_B)\n",
    "role_S_obj = reader.parse_role(role_S)\n",
    "\n",
    "print(f\"type(result[2]) = {type(result[2])}\")\n",
    "parse_prot = reader.parse_protocol(result)\n",
    "parse_prot"
   ]
  },
  {
   "cell_type": "code",
   "execution_count": 3,
   "metadata": {},
   "outputs": [
    {
     "data": {
      "text/plain": [
       "[Symbol('defprotocol'),\n",
       " Symbol('two_nonce'),\n",
       " Symbol('basic'),\n",
       " [Symbol('defrole'),\n",
       "  Symbol('init'),\n",
       "  [Symbol('vars'),\n",
       "   [Symbol('a'), Symbol('b'), Symbol('name')],\n",
       "   [Symbol('n1'), Symbol('n2'), Symbol('text')]],\n",
       "  [Symbol('trace'),\n",
       "   [Symbol('send'),\n",
       "    [Symbol('enc'), Symbol('n1'), [Symbol('pubk'), Symbol('b')]]],\n",
       "   [Symbol('recv'),\n",
       "    [Symbol('enc'),\n",
       "     Symbol('n1'),\n",
       "     Symbol('n2'),\n",
       "     [Symbol('pubk'), Symbol('a')]]],\n",
       "   [Symbol('send'),\n",
       "    [Symbol('enc'), Symbol('n2'), [Symbol('pubk'), Symbol('b')]]]]],\n",
       " [Symbol('defrole'),\n",
       "  Symbol('resp'),\n",
       "  [Symbol('vars'),\n",
       "   [Symbol('a'), Symbol('b'), Symbol('name')],\n",
       "   [Symbol('n1'), Symbol('n2'), Symbol('text')]],\n",
       "  [Symbol('trace'),\n",
       "   [Symbol('recv'),\n",
       "    [Symbol('enc'), Symbol('n1'), [Symbol('pubk'), Symbol('b')]]],\n",
       "   [Symbol('send'),\n",
       "    [Symbol('enc'),\n",
       "     Symbol('n1'),\n",
       "     Symbol('n2'),\n",
       "     [Symbol('pubk'), Symbol('a')]]],\n",
       "   [Symbol('recv'),\n",
       "    [Symbol('enc'), Symbol('n2'), [Symbol('pubk'), Symbol('b')]]]]]]"
      ]
     },
     "execution_count": 3,
     "metadata": {},
     "output_type": "execute_result"
    }
   ],
   "source": [
    "with open(\"../../prot_impl/two_nonce.rkt\") as f:\n",
    "    result_2_nonce = reader.load_cspa_as_s_expr(f)\n",
    "result_2_nonce"
   ]
  },
  {
   "cell_type": "code",
   "execution_count": null,
   "metadata": {},
   "outputs": [
    {
     "name": "stdout",
     "output_type": "stream",
     "text": [
      "prot_2_nonce.basic_str = basic\n",
      "prot_2_nonce.prot_name = two_nonce\n",
      "init_var_dict\n",
      "{'a': Variable(a,VarType.NAME), 'b': Variable(b,VarType.NAME), 'n1': Variable(n1,VarType.TEXT), 'n2': Variable(n2,VarType.TEXT)}\n",
      "resp_var_dict\n",
      "{'a': Variable(a,VarType.NAME), 'b': Variable(b,VarType.NAME), 'n1': Variable(n1,VarType.TEXT), 'n2': Variable(n2,VarType.TEXT)}\n",
      "init_msg_trace:[(<SendRecv.SEND_TRACE: 1>, Message(MsgType.ENCRYPTED_TERM,[Message(MsgType.ATOM_TERM,Variable(n1,VarType.TEXT)), Message(MsgType.PUBK_TERM,[Message(MsgType.ATOM_TERM,Variable(b,VarType.NAME))])])), (<SendRecv.RECV_TRACE: 2>, Message(MsgType.ENCRYPTED_TERM,[Message(MsgType.ATOM_TERM,Variable(n1,VarType.TEXT)), Message(MsgType.ATOM_TERM,Variable(n2,VarType.TEXT)), Message(MsgType.PUBK_TERM,[Message(MsgType.ATOM_TERM,Variable(a,VarType.NAME))])])), (<SendRecv.SEND_TRACE: 1>, Message(MsgType.ENCRYPTED_TERM,[Message(MsgType.ATOM_TERM,Variable(n2,VarType.TEXT)), Message(MsgType.PUBK_TERM,[Message(MsgType.ATOM_TERM,Variable(b,VarType.NAME))])]))]\n",
      "SendRecv.SEND_TRACE: Message(MsgType.ENCRYPTED_TERM,[Message(MsgType.ATOM_TERM,Variable(n1,VarType.TEXT)), Message(MsgType.PUBK_TERM,[Message(MsgType.ATOM_TERM,Variable(b,VarType.NAME))])])\n",
      "SendRecv.RECV_TRACE: Message(MsgType.ENCRYPTED_TERM,[Message(MsgType.ATOM_TERM,Variable(n1,VarType.TEXT)), Message(MsgType.ATOM_TERM,Variable(n2,VarType.TEXT)), Message(MsgType.PUBK_TERM,[Message(MsgType.ATOM_TERM,Variable(a,VarType.NAME))])])\n",
      "SendRecv.SEND_TRACE: Message(MsgType.ENCRYPTED_TERM,[Message(MsgType.ATOM_TERM,Variable(n2,VarType.TEXT)), Message(MsgType.PUBK_TERM,[Message(MsgType.ATOM_TERM,Variable(b,VarType.NAME))])])\n",
      "resp_msg_trace:[(<SendRecv.RECV_TRACE: 2>, Message(MsgType.ENCRYPTED_TERM,[Message(MsgType.ATOM_TERM,Variable(n1,VarType.TEXT)), Message(MsgType.PUBK_TERM,[Message(MsgType.ATOM_TERM,Variable(b,VarType.NAME))])])), (<SendRecv.SEND_TRACE: 1>, Message(MsgType.ENCRYPTED_TERM,[Message(MsgType.ATOM_TERM,Variable(n1,VarType.TEXT)), Message(MsgType.ATOM_TERM,Variable(n2,VarType.TEXT)), Message(MsgType.PUBK_TERM,[Message(MsgType.ATOM_TERM,Variable(a,VarType.NAME))])])), (<SendRecv.RECV_TRACE: 2>, Message(MsgType.ENCRYPTED_TERM,[Message(MsgType.ATOM_TERM,Variable(n2,VarType.TEXT)), Message(MsgType.PUBK_TERM,[Message(MsgType.ATOM_TERM,Variable(b,VarType.NAME))])]))]\n",
      "SendRecv.RECV_TRACE: Message(MsgType.ENCRYPTED_TERM,[Message(MsgType.ATOM_TERM,Variable(n1,VarType.TEXT)), Message(MsgType.PUBK_TERM,[Message(MsgType.ATOM_TERM,Variable(b,VarType.NAME))])])\n",
      "SendRecv.SEND_TRACE: Message(MsgType.ENCRYPTED_TERM,[Message(MsgType.ATOM_TERM,Variable(n1,VarType.TEXT)), Message(MsgType.ATOM_TERM,Variable(n2,VarType.TEXT)), Message(MsgType.PUBK_TERM,[Message(MsgType.ATOM_TERM,Variable(a,VarType.NAME))])])\n",
      "SendRecv.RECV_TRACE: Message(MsgType.ENCRYPTED_TERM,[Message(MsgType.ATOM_TERM,Variable(n2,VarType.TEXT)), Message(MsgType.PUBK_TERM,[Message(MsgType.ATOM_TERM,Variable(b,VarType.NAME))])])\n",
      "[(<SendRecv.RECV_TRACE: 2>, Message(MsgType.ENCRYPTED_TERM,[Message(MsgType.ATOM_TERM,Variable(n1,VarType.TEXT)), Message(MsgType.PUBK_TERM,[Message(MsgType.ATOM_TERM,Variable(b,VarType.NAME))])])), (<SendRecv.SEND_TRACE: 1>, Message(MsgType.ENCRYPTED_TERM,[Message(MsgType.ATOM_TERM,Variable(n1,VarType.TEXT)), Message(MsgType.ATOM_TERM,Variable(n2,VarType.TEXT)), Message(MsgType.PUBK_TERM,[Message(MsgType.ATOM_TERM,Variable(a,VarType.NAME))])])), (<SendRecv.RECV_TRACE: 2>, Message(MsgType.ENCRYPTED_TERM,[Message(MsgType.ATOM_TERM,Variable(n2,VarType.TEXT)), Message(MsgType.PUBK_TERM,[Message(MsgType.ATOM_TERM,Variable(b,VarType.NAME))])]))]\n"
     ]
    }
   ],
   "source": [
    "prot_2_nonce = reader.parse_protocol(result_2_nonce)\n",
    "print(f\"prot_2_nonce.basic_str = {prot_2_nonce.basic_str}\")\n",
    "print(f\"prot_2_nonce.prot_name = {prot_2_nonce.prot_name}\")\n",
    "role_init,role_resp = prot_2_nonce.roles_arr\n",
    "init_var_dict,resp_var_dict = role_init.var_dict,role_resp.var_dict\n",
    "print(f\"init_var_dict\\n{init_var_dict}\")\n",
    "print(f\"resp_var_dict\\n{resp_var_dict}\")\n",
    "init_msg_trace = role_init.msg_trace\n",
    "resp_msg_trace = role_resp.msg_trace\n",
    "print(f\"init_msg_trace:{(init_msg_trace)}\")\n",
    "for send_recv,msg in init_msg_trace:\n",
    "    print(f\"{send_recv}: {msg}\")\n",
    "print(f\"resp_msg_trace:{(resp_msg_trace)}\")\n",
    "for send_recv,msg in resp_msg_trace:\n",
    "    print(f\"{send_recv}: {msg}\")"
   ]
  }
 ],
 "metadata": {
  "kernelspec": {
   "display_name": "Python 3",
   "language": "python",
   "name": "python3"
  },
  "language_info": {
   "codemirror_mode": {
    "name": "ipython",
    "version": 3
   },
   "file_extension": ".py",
   "mimetype": "text/x-python",
   "name": "python",
   "nbconvert_exporter": "python",
   "pygments_lexer": "ipython3",
   "version": "3.13.2"
  }
 },
 "nbformat": 4,
 "nbformat_minor": 2
}
